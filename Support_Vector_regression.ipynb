{
  "nbformat": 4,
  "nbformat_minor": 0,
  "metadata": {
    "colab": {
      "provenance": [],
      "authorship_tag": "ABX9TyPUoYvBB2LiT69z/A0OyTNU",
      "include_colab_link": true
    },
    "kernelspec": {
      "name": "python3",
      "display_name": "Python 3"
    },
    "language_info": {
      "name": "python"
    }
  },
  "cells": [
    {
      "cell_type": "markdown",
      "metadata": {
        "id": "view-in-github",
        "colab_type": "text"
      },
      "source": [
        "<a href=\"https://colab.research.google.com/github/CAATKU/Regression/blob/main/Support_Vector_regression.ipynb\" target=\"_parent\"><img src=\"https://colab.research.google.com/assets/colab-badge.svg\" alt=\"Open In Colab\"/></a>"
      ]
    },
    {
      "cell_type": "code",
      "execution_count": 6,
      "metadata": {
        "id": "JJpOgGx4JD5t"
      },
      "outputs": [],
      "source": [
        "import pandas as pd \n",
        "import numpy as np\n",
        "import matplotlib.pyplot as plt "
      ]
    },
    {
      "cell_type": "code",
      "source": [
        "## support vector machine ==> Classification\n",
        "## support vector regression ==> regression       linear support vector regression \n",
        "\n",
        "\n",
        "## Importing the Dataset \n",
        "\n",
        "dataset = pd.read_csv('Position_Salaries.csv')\n",
        "X = dataset.iloc[:, 1:-1].values \n",
        "y = dataset.iloc[:, -1].values "
      ],
      "metadata": {
        "id": "36miPMpYJSkn"
      },
      "execution_count": 7,
      "outputs": []
    },
    {
      "cell_type": "code",
      "source": [
        "y = y.reshape(len(y),1)  ##\n",
        "print(X)\n",
        "print(y)"
      ],
      "metadata": {
        "colab": {
          "base_uri": "https://localhost:8080/"
        },
        "id": "3awxqJXhLD5n",
        "outputId": "e3ceea06-c199-460d-cb8f-9c0df1c6562b"
      },
      "execution_count": 8,
      "outputs": [
        {
          "output_type": "stream",
          "name": "stdout",
          "text": [
            "[[ 1]\n",
            " [ 2]\n",
            " [ 3]\n",
            " [ 4]\n",
            " [ 5]\n",
            " [ 6]\n",
            " [ 7]\n",
            " [ 8]\n",
            " [ 9]\n",
            " [10]]\n",
            "[[  45000]\n",
            " [  50000]\n",
            " [  60000]\n",
            " [  80000]\n",
            " [ 110000]\n",
            " [ 150000]\n",
            " [ 200000]\n",
            " [ 300000]\n",
            " [ 500000]\n",
            " [1000000]]\n"
          ]
        }
      ]
    },
    {
      "cell_type": "code",
      "source": [
        "## Feature Scaling \n",
        "\n",
        "\"\"\"\n",
        "1.we don't need to apply feature scaling for linear regression models where\n",
        " you have indeed those coefficients that can compensate with the high value of the features..\n",
        " these include simple linear regression, multiple linear regressio, polynomial linear regression!!\n",
        "2. you don't apply feature scaling to some dummy variable resulting from one-hot encoding.\n",
        "3. when dependent variable take binary values 0 & 1there also you don't need to apply feature scaling.   \n",
        "  either because values are already in the right range. \n",
        "4.when the dependent variable takes super high values with respect to the other features then to put all \n",
        "  the features and dependent variable in the same range you need to apply feature scaling.\n",
        "5. when you split the dataset in train set and test set, there you need to apply feature scaling \n",
        "    after splitting the dataset.\n",
        "\n",
        "** at the end of this implementation you need to also know, which will be the inverse transformation of feature \n",
        "scaling.\n",
        "to make the prediction you need to inverse features scaling transformation.\n",
        "\"\"\"\n",
        "\n",
        "\n",
        "from sklearn.preprocessing import StandardScaler \n",
        "\n",
        "sc_X = StandardScaler() \n",
        "sc_y = StandardScaler() \n",
        "X = sc_X.fit_transform(X) \n",
        "y = sc_y.fit_transform(y)"
      ],
      "metadata": {
        "id": "xqzzaZ5xNLJl"
      },
      "execution_count": 9,
      "outputs": []
    },
    {
      "cell_type": "code",
      "source": [
        "print('this is X:',X) \n",
        "print()\n",
        "print('this is y:', y)"
      ],
      "metadata": {
        "colab": {
          "base_uri": "https://localhost:8080/"
        },
        "id": "vsUrK0yWOecF",
        "outputId": "75f56364-96f9-45e0-fff8-c9eec31e7e6c"
      },
      "execution_count": 10,
      "outputs": [
        {
          "output_type": "stream",
          "name": "stdout",
          "text": [
            "this is X: [[-1.5666989 ]\n",
            " [-1.21854359]\n",
            " [-0.87038828]\n",
            " [-0.52223297]\n",
            " [-0.17407766]\n",
            " [ 0.17407766]\n",
            " [ 0.52223297]\n",
            " [ 0.87038828]\n",
            " [ 1.21854359]\n",
            " [ 1.5666989 ]]\n",
            "\n",
            "this is y: [[-0.72004253]\n",
            " [-0.70243757]\n",
            " [-0.66722767]\n",
            " [-0.59680786]\n",
            " [-0.49117815]\n",
            " [-0.35033854]\n",
            " [-0.17428902]\n",
            " [ 0.17781001]\n",
            " [ 0.88200808]\n",
            " [ 2.64250325]]\n"
          ]
        }
      ]
    },
    {
      "cell_type": "code",
      "source": [
        "## Training the SVR model on the whole dataset \n",
        "\n",
        "from sklearn.svm import SVR      ## first import the class \n",
        "regressor = SVR(kernel='rbf')     ## create an object or insance of this class  here we need to take the parameters kernel = 'rbf\n",
        "## more on kernel read here 'https://data-flair.training/blogs/svm-kernel-functions/'\n",
        "regressor.fit(X, y)"
      ],
      "metadata": {
        "colab": {
          "base_uri": "https://localhost:8080/"
        },
        "id": "v_jam5ZqOioU",
        "outputId": "54c2ba7d-62d9-4fc4-b27d-e687db09cd7c"
      },
      "execution_count": 17,
      "outputs": [
        {
          "output_type": "stream",
          "name": "stderr",
          "text": [
            "/usr/local/lib/python3.8/dist-packages/sklearn/utils/validation.py:993: DataConversionWarning: A column-vector y was passed when a 1d array was expected. Please change the shape of y to (n_samples, ), for example using ravel().\n",
            "  y = column_or_1d(y, warn=True)\n"
          ]
        },
        {
          "output_type": "execute_result",
          "data": {
            "text/plain": [
              "SVR()"
            ]
          },
          "metadata": {},
          "execution_count": 17
        }
      ]
    },
    {
      "cell_type": "code",
      "source": [
        "## Predicting the new result \n",
        "\n",
        "# regressor.predict(sc_X.transform([[6.5]])) \"\"\" remember we apply feature scaling on data so we need to inverse the feature scaling\"\"\"\n",
        "\n",
        "sc_y.inverse_transform(regressor.predict(sc_X.transform([[6.5]])).reshape(-1,1))"
      ],
      "metadata": {
        "colab": {
          "base_uri": "https://localhost:8080/"
        },
        "id": "QkPf9DM0Qefe",
        "outputId": "cca2336e-baf9-4a94-f542-031fbee5ea0d"
      },
      "execution_count": 14,
      "outputs": [
        {
          "output_type": "execute_result",
          "data": {
            "text/plain": [
              "array([[170370.0204065]])"
            ]
          },
          "metadata": {},
          "execution_count": 14
        }
      ]
    },
    {
      "cell_type": "code",
      "source": [
        "## Visualizing the SVR results \n",
        "\n",
        "plt.scatter(sc_X.inverse_transform(X), sc_y.inverse_transform(y), color='black')\n",
        "plt.plot(sc_X.inverse_transform(X), sc_y.inverse_transform(regressor.predict(X).reshape(-1,1)), color='green')\n",
        "plt.title('Truth or Bluff (SVR)')\n",
        "plt.xlabel('Position level')\n",
        "plt.ylabel('Salary')\n",
        "plt.show()"
      ],
      "metadata": {
        "colab": {
          "base_uri": "https://localhost:8080/",
          "height": 295
        },
        "id": "V4nmKKRITv_R",
        "outputId": "b0700f3f-6e28-4672-f318-f22a19b98040"
      },
      "execution_count": 15,
      "outputs": [
        {
          "output_type": "display_data",
          "data": {
            "text/plain": [
              "<Figure size 432x288 with 1 Axes>"
            ],
            "image/png": "[encoded data removed]"
          },
          "metadata": {
            "needs_background": "light"
          }
        }
      ]
    },
    {
      "cell_type": "code",
      "source": [
        "## Visualizing the SVR results (for higher resolution and smoother curve)\n",
        "\n",
        "X_grid = np.arange(min(sc_X.inverse_transform(X)), max(sc_X.inverse_transform(X)), 0.1)\n",
        "X_grid = X_grid.reshape((len(X_grid), 1))\n",
        "plt.scatter(sc_X.inverse_transform(X), sc_y.inverse_transform(y), color='red')\n",
        "plt.plot(X_grid, sc_y.inverse_transform(regressor.predict(sc_X.transform(X_grid)).reshape(-1,1)), color='green')\n",
        "plt.title('Truth or Bluff(SVR)')\n",
        "plt.xlabel('Position Level')\n",
        "plt.ylabel('Salary')\n",
        "plt.show()"
      ],
      "metadata": {
        "colab": {
          "base_uri": "https://localhost:8080/",
          "height": 295
        },
        "id": "0SynJr18UiB-",
        "outputId": "b03b9c22-3130-4d52-ab04-08ef3ef44d31"
      },
      "execution_count": 16,
      "outputs": [
        {
          "output_type": "display_data",
          "data": {
            "text/plain": [
              "<Figure size 432x288 with 1 Axes>"
            ],
            "image/png": "[encoded data removed]"
          },
          "metadata": {
            "needs_background": "light"
          }
        }
      ]
    },
    {
      "cell_type": "code",
      "source": [],
      "metadata": {
        "id": "DmOk_-F1Vbem"
      },
      "execution_count": null,
      "outputs": []
    }
  ]
}